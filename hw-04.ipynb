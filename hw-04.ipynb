{
 "cells": [
  {
   "cell_type": "markdown",
   "metadata": {},
   "source": [
    "## Домашняя работа № 4"
   ]
  },
  {
   "cell_type": "markdown",
   "metadata": {},
   "source": [
    "1. скачать набор данных маркетинговых кампаний отсюда https://www.kaggle.com/davinwijaya/customer-retention\n",
    "2. там поле conversion - это целевая переменная, а offer - коммуникация. Переименовать поля (conversion -> target, offer -> treatment) и привести поле treatment к бинарному виду (1 или 0, т.е было какое-то предложение или нет) - значение No Offer означает отсутствие коммуникации, а все остальные - наличие.\n",
    "3. сделать разбиение набора данных не тренировочную и тестовую выборки\n",
    "4. сделать feature engineering на ваше усмотрение (допускается свобода выбора методов)\n",
    "5. провести uplift-моделирование 3 способами: одна модель с признаком коммуникации (S learner), модель с трансформацией таргета (трансформация классов п. 2. 1) и вариант с двумя независимыми моделями\n",
    "6. в конце вывести единую таблицу сравнения метрик uplift@10%, uplift@20% этих 3 моделей\n",
    "7. построить модель UpliftTreeClassifier и попытаться описать словами полученное дерево\n",
    "8. (опционально) для модели S learner (модель с дополнительным признаком коммуникации) построить зависимость таргета (конверсии - поле conversion) от значения uplift: 1) сделать прогноз и получить uplift для тестовой выборки 2) отсортировать тестовую выборку по uplift по убыванию 3) разбить на децили (pandas qcut вам в помощь) 4) для каждого дециля посчитать среднюю conversion\n",
    "9. (опционально) построить модель UpliftRandomForestClassifier и попытаться описать словами полученное дерево"
   ]
  },
  {
   "cell_type": "markdown",
   "metadata": {},
   "source": [
    "Импортируем нужные библиотеки и предобработаем данные:"
   ]
  },
  {
   "cell_type": "code",
   "execution_count": 1,
   "metadata": {},
   "outputs": [],
   "source": [
    "%matplotlib inline\n",
    "\n",
    "import pandas as pd; pd.set_option('display.max_columns', None)\n",
    "from sklearn.model_selection import train_test_split\n",
    "import numpy as np"
   ]
  },
  {
   "cell_type": "code",
   "execution_count": 2,
   "metadata": {
    "scrolled": true
   },
   "outputs": [
    {
     "data": {
      "text/html": [
       "<div>\n",
       "<style scoped>\n",
       "    .dataframe tbody tr th:only-of-type {\n",
       "        vertical-align: middle;\n",
       "    }\n",
       "\n",
       "    .dataframe tbody tr th {\n",
       "        vertical-align: top;\n",
       "    }\n",
       "\n",
       "    .dataframe thead th {\n",
       "        text-align: right;\n",
       "    }\n",
       "</style>\n",
       "<table border=\"1\" class=\"dataframe\">\n",
       "  <thead>\n",
       "    <tr style=\"text-align: right;\">\n",
       "      <th></th>\n",
       "      <th>recency</th>\n",
       "      <th>history</th>\n",
       "      <th>used_discount</th>\n",
       "      <th>used_bogo</th>\n",
       "      <th>zip_code</th>\n",
       "      <th>is_referral</th>\n",
       "      <th>channel</th>\n",
       "      <th>offer</th>\n",
       "      <th>conversion</th>\n",
       "    </tr>\n",
       "  </thead>\n",
       "  <tbody>\n",
       "    <tr>\n",
       "      <th>0</th>\n",
       "      <td>10</td>\n",
       "      <td>142.44</td>\n",
       "      <td>1</td>\n",
       "      <td>0</td>\n",
       "      <td>Surburban</td>\n",
       "      <td>0</td>\n",
       "      <td>Phone</td>\n",
       "      <td>Buy One Get One</td>\n",
       "      <td>0</td>\n",
       "    </tr>\n",
       "    <tr>\n",
       "      <th>1</th>\n",
       "      <td>6</td>\n",
       "      <td>329.08</td>\n",
       "      <td>1</td>\n",
       "      <td>1</td>\n",
       "      <td>Rural</td>\n",
       "      <td>1</td>\n",
       "      <td>Web</td>\n",
       "      <td>No Offer</td>\n",
       "      <td>0</td>\n",
       "    </tr>\n",
       "    <tr>\n",
       "      <th>2</th>\n",
       "      <td>7</td>\n",
       "      <td>180.65</td>\n",
       "      <td>0</td>\n",
       "      <td>1</td>\n",
       "      <td>Surburban</td>\n",
       "      <td>1</td>\n",
       "      <td>Web</td>\n",
       "      <td>Buy One Get One</td>\n",
       "      <td>0</td>\n",
       "    </tr>\n",
       "  </tbody>\n",
       "</table>\n",
       "</div>"
      ],
      "text/plain": [
       "   recency  history  used_discount  used_bogo   zip_code  is_referral channel  \\\n",
       "0       10   142.44              1          0  Surburban            0   Phone   \n",
       "1        6   329.08              1          1      Rural            1     Web   \n",
       "2        7   180.65              0          1  Surburban            1     Web   \n",
       "\n",
       "             offer  conversion  \n",
       "0  Buy One Get One           0  \n",
       "1         No Offer           0  \n",
       "2  Buy One Get One           0  "
      ]
     },
     "execution_count": 2,
     "metadata": {},
     "output_type": "execute_result"
    }
   ],
   "source": [
    "# Чтение данных\n",
    "df = pd.read_csv('HW_data.csv')\n",
    "df.head(3)"
   ]
  },
  {
   "cell_type": "code",
   "execution_count": 3,
   "metadata": {},
   "outputs": [
    {
     "data": {
      "text/html": [
       "<div>\n",
       "<style scoped>\n",
       "    .dataframe tbody tr th:only-of-type {\n",
       "        vertical-align: middle;\n",
       "    }\n",
       "\n",
       "    .dataframe tbody tr th {\n",
       "        vertical-align: top;\n",
       "    }\n",
       "\n",
       "    .dataframe thead th {\n",
       "        text-align: right;\n",
       "    }\n",
       "</style>\n",
       "<table border=\"1\" class=\"dataframe\">\n",
       "  <thead>\n",
       "    <tr style=\"text-align: right;\">\n",
       "      <th></th>\n",
       "      <th>recency</th>\n",
       "      <th>history</th>\n",
       "      <th>used_discount</th>\n",
       "      <th>used_bogo</th>\n",
       "      <th>zip_code</th>\n",
       "      <th>is_referral</th>\n",
       "      <th>channel</th>\n",
       "      <th>treatment</th>\n",
       "      <th>target</th>\n",
       "    </tr>\n",
       "  </thead>\n",
       "  <tbody>\n",
       "    <tr>\n",
       "      <th>0</th>\n",
       "      <td>10</td>\n",
       "      <td>142.44</td>\n",
       "      <td>1</td>\n",
       "      <td>0</td>\n",
       "      <td>Surburban</td>\n",
       "      <td>0</td>\n",
       "      <td>Phone</td>\n",
       "      <td>Buy One Get One</td>\n",
       "      <td>0</td>\n",
       "    </tr>\n",
       "    <tr>\n",
       "      <th>1</th>\n",
       "      <td>6</td>\n",
       "      <td>329.08</td>\n",
       "      <td>1</td>\n",
       "      <td>1</td>\n",
       "      <td>Rural</td>\n",
       "      <td>1</td>\n",
       "      <td>Web</td>\n",
       "      <td>No Offer</td>\n",
       "      <td>0</td>\n",
       "    </tr>\n",
       "    <tr>\n",
       "      <th>2</th>\n",
       "      <td>7</td>\n",
       "      <td>180.65</td>\n",
       "      <td>0</td>\n",
       "      <td>1</td>\n",
       "      <td>Surburban</td>\n",
       "      <td>1</td>\n",
       "      <td>Web</td>\n",
       "      <td>Buy One Get One</td>\n",
       "      <td>0</td>\n",
       "    </tr>\n",
       "  </tbody>\n",
       "</table>\n",
       "</div>"
      ],
      "text/plain": [
       "   recency  history  used_discount  used_bogo   zip_code  is_referral channel  \\\n",
       "0       10   142.44              1          0  Surburban            0   Phone   \n",
       "1        6   329.08              1          1      Rural            1     Web   \n",
       "2        7   180.65              0          1  Surburban            1     Web   \n",
       "\n",
       "         treatment  target  \n",
       "0  Buy One Get One       0  \n",
       "1         No Offer       0  \n",
       "2  Buy One Get One       0  "
      ]
     },
     "execution_count": 3,
     "metadata": {},
     "output_type": "execute_result"
    }
   ],
   "source": [
    "# переименуем колонки\n",
    "df.rename(columns={'conversion': 'target', 'offer': 'treatment'}, inplace=True)\n",
    "df.head(3)"
   ]
  },
  {
   "cell_type": "markdown",
   "metadata": {},
   "source": [
    "Приведем поле `treatment` к бинарному виду"
   ]
  },
  {
   "cell_type": "code",
   "execution_count": 4,
   "metadata": {},
   "outputs": [
    {
     "data": {
      "text/plain": [
       "Buy One Get One    21387\n",
       "Discount           21307\n",
       "No Offer           21306\n",
       "Name: treatment, dtype: int64"
      ]
     },
     "execution_count": 4,
     "metadata": {},
     "output_type": "execute_result"
    }
   ],
   "source": [
    "df['treatment'].value_counts()"
   ]
  },
  {
   "cell_type": "code",
   "execution_count": 5,
   "metadata": {},
   "outputs": [
    {
     "name": "stderr",
     "output_type": "stream",
     "text": [
      "c:\\python\\lib\\site-packages\\pandas\\core\\indexing.py:1636: SettingWithCopyWarning: \n",
      "A value is trying to be set on a copy of a slice from a DataFrame\n",
      "\n",
      "See the caveats in the documentation: https://pandas.pydata.org/pandas-docs/stable/user_guide/indexing.html#returning-a-view-versus-a-copy\n",
      "  self._setitem_single_block(indexer, value, name)\n"
     ]
    }
   ],
   "source": [
    "df['treatment'].loc[df['treatment'] == 'No Offer'] = 0\n",
    "df['treatment'].loc[df['treatment'] != 0] = 1"
   ]
  },
  {
   "cell_type": "code",
   "execution_count": 6,
   "metadata": {},
   "outputs": [
    {
     "data": {
      "text/plain": [
       "1    42694\n",
       "0    21306\n",
       "Name: treatment, dtype: int64"
      ]
     },
     "execution_count": 6,
     "metadata": {},
     "output_type": "execute_result"
    }
   ],
   "source": [
    "df['treatment'].value_counts()"
   ]
  },
  {
   "cell_type": "code",
   "execution_count": 7,
   "metadata": {},
   "outputs": [
    {
     "data": {
      "text/plain": [
       "dtype('O')"
      ]
     },
     "execution_count": 7,
     "metadata": {},
     "output_type": "execute_result"
    }
   ],
   "source": [
    "df['treatment'].dtypes"
   ]
  },
  {
   "cell_type": "code",
   "execution_count": 8,
   "metadata": {},
   "outputs": [
    {
     "data": {
      "text/plain": [
       "dtype('int64')"
      ]
     },
     "execution_count": 8,
     "metadata": {},
     "output_type": "execute_result"
    }
   ],
   "source": [
    "df['treatment'] = df['treatment'].astype(np.int64)\n",
    "df['treatment'].dtypes"
   ]
  },
  {
   "cell_type": "code",
   "execution_count": 9,
   "metadata": {},
   "outputs": [
    {
     "data": {
      "text/plain": [
       "count    64000.000000\n",
       "mean         0.667094\n",
       "std          0.471257\n",
       "min          0.000000\n",
       "25%          0.000000\n",
       "50%          1.000000\n",
       "75%          1.000000\n",
       "max          1.000000\n",
       "Name: treatment, dtype: float64"
      ]
     },
     "execution_count": 9,
     "metadata": {},
     "output_type": "execute_result"
    }
   ],
   "source": [
    "df['treatment'].describe()"
   ]
  },
  {
   "cell_type": "raw",
   "metadata": {},
   "source": [
    "X_train, X_test, y_train, y_test = train_test_split(df[features], df[target], test_size=0.2, random_state=0)\n",
    "indices_learn, indices_valid = train_test_split(df_train.index, test_size=0.3, random_state=123)"
   ]
  },
  {
   "cell_type": "code",
   "execution_count": 10,
   "metadata": {},
   "outputs": [],
   "source": [
    "X_train, X_test = train_test_split(df, test_size=0.3, random_state=0)"
   ]
  },
  {
   "cell_type": "code",
   "execution_count": 11,
   "metadata": {},
   "outputs": [
    {
     "data": {
      "text/plain": [
       "0    38175\n",
       "1     6625\n",
       "Name: target, dtype: int64"
      ]
     },
     "execution_count": 11,
     "metadata": {},
     "output_type": "execute_result"
    }
   ],
   "source": [
    "X_train['target'].value_counts()"
   ]
  },
  {
   "cell_type": "code",
   "execution_count": 12,
   "metadata": {},
   "outputs": [
    {
     "data": {
      "text/plain": [
       "0    16431\n",
       "1     2769\n",
       "Name: target, dtype: int64"
      ]
     },
     "execution_count": 12,
     "metadata": {},
     "output_type": "execute_result"
    }
   ],
   "source": [
    "X_test['target'].value_counts()"
   ]
  },
  {
   "cell_type": "markdown",
   "metadata": {},
   "source": [
    "Заведем переменные"
   ]
  },
  {
   "cell_type": "code",
   "execution_count": 13,
   "metadata": {},
   "outputs": [],
   "source": [
    "treat_train = X_train['treatment']\n",
    "y_train = X_train['target']\n",
    "X_train = X_train.drop(['treatment', 'target'], axis=1)\n",
    "\n",
    "treat_test = X_test['treatment']\n",
    "y_test = X_test['target']\n",
    "X_test = X_test.drop(['treatment', 'target'], axis=1)\n",
    "\n",
    "# X_train_full = df_features.loc[indices_train, :]\n",
    "# y_train_full = df_train.loc[:, 'target']\n",
    "# treat_train_full = df_train.loc[:, 'treatment_flg']\n",
    "\n",
    "# X_test = df_features.loc[indices_test, :]\n",
    "\n",
    "cat_features = ['zip_code', 'channel']\n",
    "\n",
    "models_results = {\n",
    "    'approach': [],\n",
    "    'uplift@30%': [],\n",
    "    'uplift@20%': [],\n",
    "    'uplift@10%': []\n",
    "}"
   ]
  },
  {
   "cell_type": "markdown",
   "metadata": {},
   "source": [
    "### SoloModel"
   ]
  },
  {
   "cell_type": "code",
   "execution_count": 14,
   "metadata": {},
   "outputs": [
    {
     "data": {
      "image/png": "[encoded data removed]",
      "text/plain": [
       "<Figure size 1440x504 with 3 Axes>"
      ]
     },
     "metadata": {
      "needs_background": "light"
     },
     "output_type": "display_data"
    }
   ],
   "source": [
    "# Инструкция по установке пакета: https://github.com/maks-sh/scikit-uplift\n",
    "# Ссылка на документацию: https://scikit-uplift.readthedocs.io/en/latest/\n",
    "from sklift.metrics import uplift_at_k\n",
    "from sklift.viz import plot_uplift_preds\n",
    "from sklift.models import SoloModel\n",
    "\n",
    "# sklift поддерживает любые модели, \n",
    "# которые удовлетворяют соглашениями scikit-learn\n",
    "# Для примера воспользуемся catboost\n",
    "from catboost import CatBoostClassifier\n",
    "\n",
    "\n",
    "sm = SoloModel(CatBoostClassifier(iterations=20, thread_count=2, random_state=0, silent=True))\n",
    "sm = sm.fit(X_train, y_train, treat_train, estimator_fit_params={'cat_features': cat_features})\n",
    "\n",
    "uplift_sm = sm.predict(X_test)\n",
    "\n",
    "sm_score_30 = uplift_at_k(y_true=y_test, uplift=uplift_sm, treatment=treat_test, strategy='by_group', k=0.3)\n",
    "sm_score_20 = uplift_at_k(y_true=y_test, uplift=uplift_sm, treatment=treat_test, strategy='by_group', k=0.2)\n",
    "sm_score_10 = uplift_at_k(y_true=y_test, uplift=uplift_sm, treatment=treat_test, strategy='by_group', k=0.1)\n",
    "\n",
    "models_results['approach'].append('SoloModel')\n",
    "models_results['uplift@30%'].append(sm_score_30)\n",
    "models_results['uplift@20%'].append(sm_score_20)\n",
    "models_results['uplift@10%'].append(sm_score_10)\n",
    "\n",
    "# Получим условные вероятности выполнения целевого действия при взаимодействии для каждого объекта\n",
    "sm_trmnt_preds = sm.trmnt_preds_\n",
    "# И условные вероятности выполнения целевого действия без взаимодействия для каждого объекта\n",
    "sm_ctrl_preds = sm.ctrl_preds_\n",
    "\n",
    "# Отрисуем распределения вероятностей и их разность (uplift)\n",
    "plot_uplift_preds(trmnt_preds=sm_trmnt_preds, ctrl_preds=sm_ctrl_preds);"
   ]
  },
  {
   "cell_type": "markdown",
   "metadata": {},
   "source": [
    "Посмотрим на топ-признаки"
   ]
  },
  {
   "cell_type": "code",
   "execution_count": 15,
   "metadata": {},
   "outputs": [
    {
     "data": {
      "text/html": [
       "<div>\n",
       "<style scoped>\n",
       "    .dataframe tbody tr th:only-of-type {\n",
       "        vertical-align: middle;\n",
       "    }\n",
       "\n",
       "    .dataframe tbody tr th {\n",
       "        vertical-align: top;\n",
       "    }\n",
       "\n",
       "    .dataframe thead th {\n",
       "        text-align: right;\n",
       "    }\n",
       "</style>\n",
       "<table border=\"1\" class=\"dataframe\">\n",
       "  <thead>\n",
       "    <tr style=\"text-align: right;\">\n",
       "      <th></th>\n",
       "      <th>feature_name</th>\n",
       "      <th>feature_score</th>\n",
       "    </tr>\n",
       "  </thead>\n",
       "  <tbody>\n",
       "    <tr>\n",
       "      <th>0</th>\n",
       "      <td>is_referral</td>\n",
       "      <td>20.033464</td>\n",
       "    </tr>\n",
       "    <tr>\n",
       "      <th>1</th>\n",
       "      <td>treatment</td>\n",
       "      <td>20.029391</td>\n",
       "    </tr>\n",
       "    <tr>\n",
       "      <th>2</th>\n",
       "      <td>used_bogo</td>\n",
       "      <td>13.393111</td>\n",
       "    </tr>\n",
       "    <tr>\n",
       "      <th>3</th>\n",
       "      <td>recency</td>\n",
       "      <td>12.367652</td>\n",
       "    </tr>\n",
       "    <tr>\n",
       "      <th>4</th>\n",
       "      <td>zip_code</td>\n",
       "      <td>11.308212</td>\n",
       "    </tr>\n",
       "    <tr>\n",
       "      <th>5</th>\n",
       "      <td>used_discount</td>\n",
       "      <td>9.570001</td>\n",
       "    </tr>\n",
       "    <tr>\n",
       "      <th>6</th>\n",
       "      <td>channel</td>\n",
       "      <td>6.704432</td>\n",
       "    </tr>\n",
       "    <tr>\n",
       "      <th>7</th>\n",
       "      <td>history</td>\n",
       "      <td>6.593738</td>\n",
       "    </tr>\n",
       "  </tbody>\n",
       "</table>\n",
       "</div>"
      ],
      "text/plain": [
       "    feature_name  feature_score\n",
       "0    is_referral      20.033464\n",
       "1      treatment      20.029391\n",
       "2      used_bogo      13.393111\n",
       "3        recency      12.367652\n",
       "4       zip_code      11.308212\n",
       "5  used_discount       9.570001\n",
       "6        channel       6.704432\n",
       "7        history       6.593738"
      ]
     },
     "execution_count": 15,
     "metadata": {},
     "output_type": "execute_result"
    }
   ],
   "source": [
    "# С той же легкостью можно обратиться к обученной модели.\n",
    "# Например, чтобы построить важность признаков:\n",
    "sm_fi = pd.DataFrame({\n",
    "    'feature_name': sm.estimator.feature_names_,\n",
    "    'feature_score': sm.estimator.feature_importances_\n",
    "}).sort_values('feature_score', ascending=False).reset_index(drop=True)\n",
    "\n",
    "sm_fi"
   ]
  },
  {
   "cell_type": "markdown",
   "metadata": {},
   "source": [
    "### ClassTransformation"
   ]
  },
  {
   "cell_type": "code",
   "execution_count": 16,
   "metadata": {},
   "outputs": [
    {
     "name": "stderr",
     "output_type": "stream",
     "text": [
      "<ipython-input-16-ac7d8f662ea7>:5: UserWarning: It is recommended to use this approach on treatment balanced data. Current sample size is unbalanced.\n",
      "  ct = ct.fit(X_train, y_train, treat_train, estimator_fit_params={'cat_features': cat_features})\n"
     ]
    }
   ],
   "source": [
    "from sklift.models import ClassTransformation\n",
    "\n",
    "\n",
    "ct = ClassTransformation(CatBoostClassifier(iterations=20, thread_count=2, random_state=0, silent=True))\n",
    "ct = ct.fit(X_train, y_train, treat_train, estimator_fit_params={'cat_features': cat_features})\n",
    "\n",
    "uplift_ct = ct.predict(X_test)\n",
    "\n",
    "ct_score_30 = uplift_at_k(y_true=y_test, uplift=uplift_ct, treatment=treat_test, strategy='by_group', k=0.3)\n",
    "ct_score_20 = uplift_at_k(y_true=y_test, uplift=uplift_ct, treatment=treat_test, strategy='by_group', k=0.2)\n",
    "ct_score_10 = uplift_at_k(y_true=y_test, uplift=uplift_ct, treatment=treat_test, strategy='by_group', k=0.1)\n",
    "\n",
    "models_results['approach'].append('ClassTransformation')\n",
    "models_results['uplift@30%'].append(ct_score_30)\n",
    "models_results['uplift@20%'].append(ct_score_20)\n",
    "models_results['uplift@10%'].append(ct_score_10)"
   ]
  },
  {
   "cell_type": "markdown",
   "metadata": {},
   "source": [
    "### TwoModels"
   ]
  },
  {
   "cell_type": "code",
   "execution_count": 17,
   "metadata": {},
   "outputs": [
    {
     "data": {
      "image/png": "[encoded data removed]",
      "text/plain": [
       "<Figure size 1440x504 with 3 Axes>"
      ]
     },
     "metadata": {
      "needs_background": "light"
     },
     "output_type": "display_data"
    }
   ],
   "source": [
    "from sklift.models import TwoModels\n",
    "\n",
    "\n",
    "tm = TwoModels(\n",
    "    estimator_trmnt=CatBoostClassifier(iterations=20, thread_count=2, random_state=0, silent=True), \n",
    "    estimator_ctrl=CatBoostClassifier(iterations=20, thread_count=2, random_state=0, silent=True), \n",
    "    method='vanilla'\n",
    ")\n",
    "tm = tm.fit(\n",
    "    X_train, y_train, treat_train,\n",
    "    estimator_trmnt_fit_params={'cat_features': cat_features}, \n",
    "    estimator_ctrl_fit_params={'cat_features': cat_features}\n",
    ")\n",
    "\n",
    "uplift_tm = tm.predict(X_test)\n",
    "\n",
    "tm_score_30 = uplift_at_k(y_true=y_test, uplift=uplift_tm, treatment=treat_test, strategy='by_group', k=0.3)\n",
    "tm_score_20 = uplift_at_k(y_true=y_test, uplift=uplift_tm, treatment=treat_test, strategy='by_group', k=0.2)\n",
    "tm_score_10 = uplift_at_k(y_true=y_test, uplift=uplift_tm, treatment=treat_test, strategy='by_group', k=0.1)\n",
    "\n",
    "models_results['approach'].append('TwoModels')\n",
    "models_results['uplift@30%'].append(tm_score_30)\n",
    "models_results['uplift@20%'].append(tm_score_20)\n",
    "models_results['uplift@10%'].append(tm_score_10)\n",
    "\n",
    "plot_uplift_preds(trmnt_preds=tm.trmnt_preds_, ctrl_preds=tm.ctrl_preds_);"
   ]
  },
  {
   "cell_type": "markdown",
   "metadata": {},
   "source": [
    "Посмотрим на результаты"
   ]
  },
  {
   "cell_type": "code",
   "execution_count": 18,
   "metadata": {},
   "outputs": [
    {
     "data": {
      "text/html": [
       "<div>\n",
       "<style scoped>\n",
       "    .dataframe tbody tr th:only-of-type {\n",
       "        vertical-align: middle;\n",
       "    }\n",
       "\n",
       "    .dataframe tbody tr th {\n",
       "        vertical-align: top;\n",
       "    }\n",
       "\n",
       "    .dataframe thead th {\n",
       "        text-align: right;\n",
       "    }\n",
       "</style>\n",
       "<table border=\"1\" class=\"dataframe\">\n",
       "  <thead>\n",
       "    <tr style=\"text-align: right;\">\n",
       "      <th></th>\n",
       "      <th>approach</th>\n",
       "      <th>uplift@30%</th>\n",
       "      <th>uplift@20%</th>\n",
       "      <th>uplift@10%</th>\n",
       "    </tr>\n",
       "  </thead>\n",
       "  <tbody>\n",
       "    <tr>\n",
       "      <th>2</th>\n",
       "      <td>TwoModels</td>\n",
       "      <td>0.080688</td>\n",
       "      <td>0.082465</td>\n",
       "      <td>0.079761</td>\n",
       "    </tr>\n",
       "    <tr>\n",
       "      <th>0</th>\n",
       "      <td>SoloModel</td>\n",
       "      <td>0.072780</td>\n",
       "      <td>0.077733</td>\n",
       "      <td>0.082092</td>\n",
       "    </tr>\n",
       "    <tr>\n",
       "      <th>1</th>\n",
       "      <td>ClassTransformation</td>\n",
       "      <td>0.070670</td>\n",
       "      <td>0.073185</td>\n",
       "      <td>0.072866</td>\n",
       "    </tr>\n",
       "  </tbody>\n",
       "</table>\n",
       "</div>"
      ],
      "text/plain": [
       "              approach  uplift@30%  uplift@20%  uplift@10%\n",
       "2            TwoModels    0.080688    0.082465    0.079761\n",
       "0            SoloModel    0.072780    0.077733    0.082092\n",
       "1  ClassTransformation    0.070670    0.073185    0.072866"
      ]
     },
     "execution_count": 18,
     "metadata": {},
     "output_type": "execute_result"
    }
   ],
   "source": [
    "pd.DataFrame(data=models_results).sort_values('uplift@30%', ascending=False)"
   ]
  },
  {
   "cell_type": "markdown",
   "metadata": {},
   "source": [
    "#### Вариант с деревом решений"
   ]
  },
  {
   "cell_type": "code",
   "execution_count": 19,
   "metadata": {},
   "outputs": [],
   "source": [
    "X_train_tree = pd.concat([X_train.drop(['zip_code', 'channel'], axis=1), \n",
    "                          pd.get_dummies(pd.DataFrame({'zip_code':X_train['zip_code'], \n",
    "                                                       'channel':X_train['channel']}), \n",
    "                                         prefix=['zip', 'ch'], \n",
    "                                         prefix_sep='_', \n",
    "                                         drop_first=True, \n",
    "                                         dtype='int64')], axis=1)\n",
    "\n",
    "features = [col for col in X_train_tree]"
   ]
  },
  {
   "cell_type": "code",
   "execution_count": 20,
   "metadata": {
    "scrolled": false
   },
   "outputs": [
    {
     "name": "stdout",
     "output_type": "stream",
     "text": [
      "Collecting causalml\n",
      "  Using cached causalml-0.9.0.tar.gz (236 kB)\n",
      "Requirement already satisfied: setuptools>=41.0.0 in c:\\python\\lib\\site-packages (from causalml) (51.1.1)\n",
      "Requirement already satisfied: pip>=10.0 in c:\\python\\lib\\site-packages (from causalml) (20.3.3)\n",
      "Requirement already satisfied: numpy<1.19.0,>=0.16.0 in c:\\python\\lib\\site-packages (from causalml) (1.18.5)\n",
      "Requirement already satisfied: scipy==1.4.1 in c:\\python\\lib\\site-packages (from causalml) (1.4.1)\n",
      "Requirement already satisfied: matplotlib in c:\\python\\lib\\site-packages (from causalml) (3.3.3)\n",
      "Requirement already satisfied: pandas>=0.24.1 in c:\\python\\lib\\site-packages (from causalml) (1.2.0)\n",
      "Note: you may need to restart the kernel to use updated packages.Requirement already satisfied: scikit-learn>=0.22.0 in c:\\python\\lib\\site-packages (from causalml) (0.24.0)\n",
      "Requirement already satisfied: statsmodels>=0.9.0 in c:\\python\\lib\\site-packages (from causalml) (0.12.1)\n",
      "Requirement already satisfied: seaborn in c:\\python\\lib\\site-packages (from causalml) (0.11.1)\n",
      "Requirement already satisfied: Cython>=0.28.0 in c:\\python\\lib\\site-packages (from causalml) (0.29.21)\n",
      "Requirement already satisfied: xgboost in c:\\python\\lib\\site-packages (from causalml) (1.3.1)\n",
      "Requirement already satisfied: pydotplus in c:\\python\\lib\\site-packages (from causalml) (2.0.2)\n",
      "\n",
      "Requirement already satisfied: tqdm in c:\\python\\lib\\site-packages (from causalml) (4.55.1)\n",
      "Requirement already satisfied: shap in c:\\python\\lib\\site-packages (from causalml) (0.37.0)\n",
      "Requirement already satisfied: dill in c:\\python\\lib\\site-packages (from causalml) (0.3.3)\n",
      "Requirement already satisfied: lightgbm in c:\\python\\lib\\site-packages (from causalml) (3.1.1)\n",
      "Requirement already satisfied: pygam in c:\\python\\lib\\site-packages (from causalml) (0.8.0)\n",
      "Requirement already satisfied: packaging in c:\\python\\lib\\site-packages (from causalml) (20.8)\n",
      "Requirement already satisfied: keras in c:\\python\\lib\\site-packages (from causalml) (2.4.3)\n",
      "Requirement already satisfied: tensorflow>=1.15.2 in c:\\python\\lib\\site-packages (from causalml) (2.3.2)\n",
      "Requirement already satisfied: python-dateutil>=2.7.3 in c:\\python\\lib\\site-packages (from pandas>=0.24.1->causalml) (2.8.1)\n",
      "Requirement already satisfied: pytz>=2017.3 in c:\\python\\lib\\site-packages (from pandas>=0.24.1->causalml) (2020.5)\n",
      "Requirement already satisfied: six>=1.5 in c:\\python\\lib\\site-packages (from python-dateutil>=2.7.3->pandas>=0.24.1->causalml) (1.15.0)\n",
      "Requirement already satisfied: threadpoolctl>=2.0.0 in c:\\python\\lib\\site-packages (from scikit-learn>=0.22.0->causalml) (2.1.0)\n",
      "Requirement already satisfied: joblib>=0.11 in c:\\python\\lib\\site-packages (from scikit-learn>=0.22.0->causalml) (1.0.0)\n",
      "Requirement already satisfied: patsy>=0.5 in c:\\python\\lib\\site-packages (from statsmodels>=0.9.0->causalml) (0.5.1)\n",
      "Requirement already satisfied: gast==0.3.3 in c:\\python\\lib\\site-packages (from tensorflow>=1.15.2->causalml) (0.3.3)\n",
      "Requirement already satisfied: absl-py>=0.7.0 in c:\\python\\lib\\site-packages (from tensorflow>=1.15.2->causalml) (0.11.0)\n"
     ]
    },
    {
     "name": "stderr",
     "output_type": "stream",
     "text": [
      "  ERROR: Command errored out with exit status 1:\n",
      "   command: 'c:\\python\\python.exe' -u -c 'import sys, setuptools, tokenize; sys.argv[0] = '\"'\"'C:\\\\tmp\\\\pip-install-0lxus1cv\\\\causalml_88a7aac32acd410bbd37fc54a6824b76\\\\setup.py'\"'\"'; __file__='\"'\"'C:\\\\tmp\\\\pip-install-0lxus1cv\\\\causalml_88a7aac32acd410bbd37fc54a6824b76\\\\setup.py'\"'\"';f=getattr(tokenize, '\"'\"'open'\"'\"', open)(__file__);code=f.read().replace('\"'\"'\\r\\n'\"'\"', '\"'\"'\\n'\"'\"');f.close();exec(compile(code, __file__, '\"'\"'exec'\"'\"'))' bdist_wheel -d 'C:\\tmp\\pip-wheel-r2xzlois'\n",
      "       cwd: C:\\tmp\\pip-install-0lxus1cv\\causalml_88a7aac32acd410bbd37fc54a6824b76\\\n",
      "  Complete output (79 lines):\n",
      "  running bdist_wheel\n",
      "  running build\n",
      "  running build_py\n",
      "  creating build\n",
      "  creating build\\lib.win-amd64-3.8\n",
      "  creating build\\lib.win-amd64-3.8\\causalml\n",
      "  copying causalml\\features.py -> build\\lib.win-amd64-3.8\\causalml\n",
      "  copying causalml\\match.py -> build\\lib.win-amd64-3.8\\causalml\n",
      "  copying causalml\\propensity.py -> build\\lib.win-amd64-3.8\\causalml\n",
      "  copying causalml\\__init__.py -> build\\lib.win-amd64-3.8\\causalml\n",
      "  creating build\\lib.win-amd64-3.8\\tests\n",
      "  copying tests\\conftest.py -> build\\lib.win-amd64-3.8\\tests\n",
      "  copying tests\\const.py -> build\\lib.win-amd64-3.8\\tests\n",
      "  copying tests\\test_counterfactual_unit_selection.py -> build\\lib.win-amd64-3.8\\tests\n",
      "  copying tests\\test_datasets.py -> build\\lib.win-amd64-3.8\\tests\n",
      "  copying tests\\test_features.py -> build\\lib.win-amd64-3.8\\tests\n",
      "  copying tests\\test_match.py -> build\\lib.win-amd64-3.8\\tests\n",
      "  copying tests\\test_meta_learners.py -> build\\lib.win-amd64-3.8\\tests\n",
      "  copying tests\\test_propensity.py -> build\\lib.win-amd64-3.8\\tests\n",
      "  copying tests\\test_sensitivity.py -> build\\lib.win-amd64-3.8\\tests\n",
      "  copying tests\\test_uplift_trees.py -> build\\lib.win-amd64-3.8\\tests\n",
      "  copying tests\\test_value_optimization.py -> build\\lib.win-amd64-3.8\\tests\n",
      "  copying tests\\__init__.py -> build\\lib.win-amd64-3.8\\tests\n",
      "  creating build\\lib.win-amd64-3.8\\causalml\\dataset\n",
      "  copying causalml\\dataset\\classification.py -> build\\lib.win-amd64-3.8\\causalml\\dataset\n",
      "  copying causalml\\dataset\\regression.py -> build\\lib.win-amd64-3.8\\causalml\\dataset\n",
      "  copying causalml\\dataset\\synthetic.py -> build\\lib.win-amd64-3.8\\causalml\\dataset\n",
      "  copying causalml\\dataset\\__init__.py -> build\\lib.win-amd64-3.8\\causalml\\dataset\n",
      "  creating build\\lib.win-amd64-3.8\\causalml\\feature_selection\n",
      "  copying causalml\\feature_selection\\filters.py -> build\\lib.win-amd64-3.8\\causalml\\feature_selection\n",
      "  copying causalml\\feature_selection\\__init__.py -> build\\lib.win-amd64-3.8\\causalml\\feature_selection\n",
      "  creating build\\lib.win-amd64-3.8\\causalml\\inference\n",
      "  copying causalml\\inference\\__init__.py -> build\\lib.win-amd64-3.8\\causalml\\inference\n",
      "  creating build\\lib.win-amd64-3.8\\causalml\\metrics\n",
      "  copying causalml\\metrics\\classification.py -> build\\lib.win-amd64-3.8\\causalml\\metrics\n",
      "  copying causalml\\metrics\\const.py -> build\\lib.win-amd64-3.8\\causalml\\metrics\n",
      "  copying causalml\\metrics\\regression.py -> build\\lib.win-amd64-3.8\\causalml\\metrics\n",
      "  copying causalml\\metrics\\sensitivity.py -> build\\lib.win-amd64-3.8\\causalml\\metrics\n",
      "  copying causalml\\metrics\\visualize.py -> build\\lib.win-amd64-3.8\\causalml\\metrics\n",
      "  copying causalml\\metrics\\__init__.py -> build\\lib.win-amd64-3.8\\causalml\\metrics\n",
      "  creating build\\lib.win-amd64-3.8\\causalml\\optimize\n",
      "  copying causalml\\optimize\\policylearner.py -> build\\lib.win-amd64-3.8\\causalml\\optimize\n",
      "  copying causalml\\optimize\\unit_selection.py -> build\\lib.win-amd64-3.8\\causalml\\optimize\n",
      "  copying causalml\\optimize\\utils.py -> build\\lib.win-amd64-3.8\\causalml\\optimize\n",
      "  copying causalml\\optimize\\value_optimization.py -> build\\lib.win-amd64-3.8\\causalml\\optimize\n",
      "  copying causalml\\optimize\\__init__.py -> build\\lib.win-amd64-3.8\\causalml\\optimize\n",
      "  creating build\\lib.win-amd64-3.8\\causalml\\inference\\iv\n",
      "  copying causalml\\inference\\iv\\iv_regression.py -> build\\lib.win-amd64-3.8\\causalml\\inference\\iv\n",
      "  copying causalml\\inference\\iv\\__init__.py -> build\\lib.win-amd64-3.8\\causalml\\inference\\iv"
     ]
    },
    {
     "name": "stdout",
     "output_type": "stream",
     "text": [
      "Requirement already satisfied: tensorboard<3,>=2.3.0 in c:\\python\\lib\\site-packages (from tensorflow>=1.15.2->causalml) (2.4.0)\n",
      "Requirement already satisfied: tensorflow-estimator<2.4.0,>=2.3.0 in c:\\python\\lib\\site-packages (from tensorflow>=1.15.2->causalml) (2.3.0)\n",
      "Requirement already satisfied: protobuf>=3.9.2 in c:\\python\\lib\\site-packages (from tensorflow>=1.15.2->causalml) (3.14.0)\n",
      "Requirement already satisfied: opt-einsum>=2.3.2 in c:\\python\\lib\\site-packages (from tensorflow>=1.15.2->causalml) (3.3.0)\n",
      "Requirement already satisfied: grpcio>=1.8.6 in c:\\python\\lib\\site-packages (from tensorflow>=1.15.2->causalml) (1.34.0)\n",
      "Requirement already satisfied: wrapt>=1.11.1 in c:\\python\\lib\\site-packages (from tensorflow>=1.15.2->causalml) (1.12.1)\n",
      "Requirement already satisfied: astunparse==1.6.3 in c:\\python\\lib\\site-packages (from tensorflow>=1.15.2->causalml) (1.6.3)\n",
      "Requirement already satisfied: h5py<2.11.0,>=2.10.0 in c:\\python\\lib\\site-packages (from tensorflow>=1.15.2->causalml) (2.10.0)\n",
      "Requirement already satisfied: termcolor>=1.1.0 in c:\\python\\lib\\site-packages (from tensorflow>=1.15.2->causalml) (1.1.0)\n",
      "Requirement already satisfied: keras-preprocessing<1.2,>=1.1.1 in c:\\python\\lib\\site-packages (from tensorflow>=1.15.2->causalml) (1.1.2)\n",
      "Requirement already satisfied: wheel>=0.26 in c:\\python\\lib\\site-packages (from tensorflow>=1.15.2->causalml) (0.36.2)\n",
      "Requirement already satisfied: google-pasta>=0.1.8 in c:\\python\\lib\\site-packages (from tensorflow>=1.15.2->causalml) (0.2.0)\n",
      "Requirement already satisfied: google-auth-oauthlib<0.5,>=0.4.1 in c:\\python\\lib\\site-packages (from tensorboard<3,>=2.3.0->tensorflow>=1.15.2->causalml) (0.4.2)\n",
      "Requirement already satisfied: tensorboard-plugin-wit>=1.6.0 in c:\\python\\lib\\site-packages (from tensorboard<3,>=2.3.0->tensorflow>=1.15.2->causalml) (1.7.0)\n",
      "Requirement already satisfied: requests<3,>=2.21.0 in c:\\python\\lib\\site-packages (from tensorboard<3,>=2.3.0->tensorflow>=1.15.2->causalml) (2.25.1)\n",
      "Requirement already satisfied: werkzeug>=0.11.15 in c:\\python\\lib\\site-packages (from tensorboard<3,>=2.3.0->tensorflow>=1.15.2->causalml) (1.0.1)\n",
      "Requirement already satisfied: google-auth<2,>=1.6.3 in c:\\python\\lib\\site-packages (from tensorboard<3,>=2.3.0->tensorflow>=1.15.2->causalml) (1.24.0)\n",
      "Requirement already satisfied: markdown>=2.6.8 in c:\\python\\lib\\site-packages (from tensorboard<3,>=2.3.0->tensorflow>=1.15.2->causalml) (3.3.3)\n",
      "Requirement already satisfied: rsa<5,>=3.1.4 in c:\\python\\lib\\site-packages (from google-auth<2,>=1.6.3->tensorboard<3,>=2.3.0->tensorflow>=1.15.2->causalml) (4.6)\n",
      "Requirement already satisfied: cachetools<5.0,>=2.0.0 in c:\\python\\lib\\site-packages (from google-auth<2,>=1.6.3->tensorboard<3,>=2.3.0->tensorflow>=1.15.2->causalml) (4.2.0)\n",
      "Requirement already satisfied: pyasn1-modules>=0.2.1 in c:\\python\\lib\\site-packages (from google-auth<2,>=1.6.3->tensorboard<3,>=2.3.0->tensorflow>=1.15.2->causalml) (0.2.8)\n",
      "Requirement already satisfied: requests-oauthlib>=0.7.0 in c:\\python\\lib\\site-packages (from google-auth-oauthlib<0.5,>=0.4.1->tensorboard<3,>=2.3.0->tensorflow>=1.15.2->causalml) (1.3.0)\n",
      "Requirement already satisfied: pyasn1<0.5.0,>=0.4.6 in c:\\python\\lib\\site-packages (from pyasn1-modules>=0.2.1->google-auth<2,>=1.6.3->tensorboard<3,>=2.3.0->tensorflow>=1.15.2->causalml) (0.4.8)\n",
      "Requirement already satisfied: certifi>=2017.4.17 in c:\\python\\lib\\site-packages (from requests<3,>=2.21.0->tensorboard<3,>=2.3.0->tensorflow>=1.15.2->causalml) (2020.12.5)\n",
      "Requirement already satisfied: idna<3,>=2.5 in c:\\python\\lib\\site-packages (from requests<3,>=2.21.0->tensorboard<3,>=2.3.0->tensorflow>=1.15.2->causalml) (2.10)\n",
      "Requirement already satisfied: urllib3<1.27,>=1.21.1 in c:\\python\\lib\\site-packages (from requests<3,>=2.21.0->tensorboard<3,>=2.3.0->tensorflow>=1.15.2->causalml) (1.26.2)\n",
      "Requirement already satisfied: chardet<5,>=3.0.2 in c:\\python\\lib\\site-packages (from requests<3,>=2.21.0->tensorboard<3,>=2.3.0->tensorflow>=1.15.2->causalml) (4.0.0)\n",
      "Requirement already satisfied: oauthlib>=3.0.0 in c:\\python\\lib\\site-packages (from requests-oauthlib>=0.7.0->google-auth-oauthlib<0.5,>=0.4.1->tensorboard<3,>=2.3.0->tensorflow>=1.15.2->causalml) (3.1.0)\n",
      "Requirement already satisfied: pyyaml in c:\\python\\lib\\site-packages (from keras->causalml) (5.3.1)\n",
      "Requirement already satisfied: kiwisolver>=1.0.1 in c:\\python\\lib\\site-packages (from matplotlib->causalml) (1.3.1)\n",
      "Requirement already satisfied: pillow>=6.2.0 in c:\\python\\lib\\site-packages (from matplotlib->causalml) (8.1.0)"
     ]
    },
    {
     "name": "stderr",
     "output_type": "stream",
     "text": [
      "\n",
      "  creating build\\lib.win-amd64-3.8\\causalml\\inference\\meta\n",
      "  copying causalml\\inference\\meta\\explainer.py -> build\\lib.win-amd64-3.8\\causalml\\inference\\meta\n",
      "  copying causalml\\inference\\meta\\rlearner.py -> build\\lib.win-amd64-3.8\\causalml\\inference\\meta\n",
      "  copying causalml\\inference\\meta\\slearner.py -> build\\lib.win-amd64-3.8\\causalml\\inference\\meta\n",
      "  copying causalml\\inference\\meta\\tlearner.py -> build\\lib.win-amd64-3.8\\causalml\\inference\\meta\n",
      "  copying causalml\\inference\\meta\\tmle.py -> build\\lib.win-amd64-3.8\\causalml\\inference\\meta\n",
      "  copying causalml\\inference\\meta\\utils.py -> build\\lib.win-amd64-3.8\\causalml\\inference\\meta\n",
      "  copying causalml\\inference\\meta\\xlearner.py -> build\\lib.win-amd64-3.8\\causalml\\inference\\meta\n",
      "  copying causalml\\inference\\meta\\__init__.py -> build\\lib.win-amd64-3.8\\causalml\\inference\\meta\n",
      "  creating build\\lib.win-amd64-3.8\\causalml\\inference\\nn\n",
      "  copying causalml\\inference\\nn\\dragonnet.py -> build\\lib.win-amd64-3.8\\causalml\\inference\\nn\n",
      "  copying causalml\\inference\\nn\\utils.py -> build\\lib.win-amd64-3.8\\causalml\\inference\\nn\n",
      "  copying causalml\\inference\\nn\\__init__.py -> build\\lib.win-amd64-3.8\\causalml\\inference\\nn\n",
      "  creating build\\lib.win-amd64-3.8\\causalml\\inference\\tree\n",
      "  copying causalml\\inference\\tree\\models.py -> build\\lib.win-amd64-3.8\\causalml\\inference\\tree\n",
      "  copying causalml\\inference\\tree\\plot.py -> build\\lib.win-amd64-3.8\\causalml\\inference\\tree\n",
      "  copying causalml\\inference\\tree\\utils.py -> build\\lib.win-amd64-3.8\\causalml\\inference\\tree\n",
      "  copying causalml\\inference\\tree\\__init__.py -> build\\lib.win-amd64-3.8\\causalml\\inference\\tree\n",
      "  running build_ext\n",
      "  building 'causalml.inference.tree.causaltree' extension\n",
      "  creating build\\temp.win-amd64-3.8\n",
      "  creating build\\temp.win-amd64-3.8\\Release\n",
      "  creating build\\temp.win-amd64-3.8\\Release\\causalml\n",
      "  creating build\\temp.win-amd64-3.8\\Release\\causalml\\inference\n",
      "  creating build\\temp.win-amd64-3.8\\Release\\causalml\\inference\\tree\n",
      "  C:\\Program Files (x86)\\Microsoft Visual Studio\\2019\\BuildTools\\VC\\Tools\\MSVC\\14.28.29333\\bin\\HostX86\\x64\\cl.exe /c /nologo /Ox /W3 /GL /DNDEBUG /MD -Ic:\\python\\lib\\site-packages\\numpy\\core\\include -Ic:\\python\\lib\\site-packages\\numpy\\core\\include -Ic:\\python\\include -Ic:\\python\\include \"-IC:\\Program Files (x86)\\Microsoft Visual Studio\\2019\\BuildTools\\VC\\Tools\\MSVC\\14.28.29333\\include\" /Tccausalml/inference/tree/causaltree.c /Fobuild\\temp.win-amd64-3.8\\Release\\causalml/inference/tree/causaltree.obj -O3\n",
      "  cl: Є®¬ ­¤­ п бва®Є  warning D9002: Їа®ЇгбЄ ­ҐЁ§ўҐбв­®Ј® Ї а ¬Ґва  \"-O3\"\n",
      "  causaltree.c\n",
      "  c:\\python\\include\\pyconfig.h(59): fatal error C1083: ЌҐ г¤ Ґвбп ®вЄалвм д ©« ўЄ«озҐ­ЁҐ: io.h: No such file or directory,\n",
      "  error: command 'C:\\\\Program Files (x86)\\\\Microsoft Visual Studio\\\\2019\\\\BuildTools\\\\VC\\\\Tools\\\\MSVC\\\\14.28.29333\\\\bin\\\\HostX86\\\\x64\\\\cl.exe' failed with exit status 2\n",
      "  ----------------------------------------\n",
      "  ERROR: Failed building wheel for causalml\n",
      "    ERROR: Command errored out with exit status 1:\n",
      "     command: 'c:\\python\\python.exe' -u -c 'import sys, setuptools, tokenize; sys.argv[0] = '\"'\"'C:\\\\tmp\\\\pip-install-0lxus1cv\\\\causalml_88a7aac32acd410bbd37fc54a6824b76\\\\setup.py'\"'\"'; __file__='\"'\"'C:\\\\tmp\\\\pip-install-0lxus1cv\\\\causalml_88a7aac32acd410bbd37fc54a6824b76\\\\setup.py'\"'\"';f=getattr(tokenize, '\"'\"'open'\"'\"', open)(__file__);code=f.read().replace('\"'\"'\\r\\n'\"'\"', '\"'\"'\\n'\"'\"');f.close();exec(compile(code, __file__, '\"'\"'exec'\"'\"'))' install --record 'C:\\tmp\\pip-record-oqntacm9\\install-record.txt' --single-version-externally-managed --compile --install-headers 'c:\\python\\Include\\causalml'\n",
      "         cwd: C:\\tmp\\pip-install-0lxus1cv\\causalml_88a7aac32acd410bbd37fc54a6824b76\\\n",
      "    Complete output (79 lines):\n",
      "    running install\n",
      "    running build\n",
      "    running build_py\n",
      "    creating build\n",
      "    creating build\\lib.win-amd64-3.8\n",
      "    creating build\\lib.win-amd64-3.8\\causalml\n",
      "    copying causalml\\features.py -> build\\lib.win-amd64-3.8\\causalml\n",
      "    copying causalml\\match.py -> build\\lib.win-amd64-3.8\\causalml\n",
      "    copying causalml\\propensity.py -> build\\lib.win-amd64-3.8\\causalml\n",
      "    copying causalml\\__init__.py -> build\\lib.win-amd64-3.8\\causalml\n",
      "    creating build\\lib.win-amd64-3.8\\tests\n",
      "    copying tests\\conftest.py -> build\\lib.win-amd64-3.8\\tests\n",
      "    copying tests\\const.py -> build\\lib.win-amd64-3.8\\tests\n",
      "    copying tests\\test_counterfactual_unit_selection.py -> build\\lib.win-amd64-3.8\\tests\n",
      "    copying tests\\test_datasets.py -> build\\lib.win-amd64-3.8\\tests\n",
      "    copying tests\\test_features.py -> build\\lib.win-amd64-3.8\\tests\n",
      "    copying tests\\test_match.py -> build\\lib.win-amd64-3.8\\tests\n",
      "    copying tests\\test_meta_learners.py -> build\\lib.win-amd64-3.8\\tests\n",
      "    copying tests\\test_propensity.py -> build\\lib.win-amd64-3.8\\tests\n",
      "    copying tests\\test_sensitivity.py -> build\\lib.win-amd64-3.8\\tests\n",
      "    copying tests\\test_uplift_trees.py -> build\\lib.win-amd64-3.8\\tests\n",
      "    copying tests\\test_value_optimization.py -> build\\lib.win-amd64-3.8\\tests\n",
      "    copying tests\\__init__.py -> build\\lib.win-amd64-3.8\\tests\n",
      "    creating build\\lib.win-amd64-3.8\\causalml\\dataset\n",
      "    copying causalml\\dataset\\classification.py -> build\\lib.win-amd64-3.8\\causalml\\dataset\n",
      "    copying causalml\\dataset\\regression.py -> build\\lib.win-amd64-3.8\\causalml\\dataset\n",
      "    copying causalml\\dataset\\synthetic.py -> build\\lib.win-amd64-3.8\\causalml\\dataset\n",
      "    copying causalml\\dataset\\__init__.py -> build\\lib.win-amd64-3.8\\causalml\\dataset\n",
      "    creating build\\lib.win-amd64-3.8\\causalml\\feature_selection\n",
      "    copying causalml\\feature_selection\\filters.py -> build\\lib.win-amd64-3.8\\causalml\\feature_selection\n",
      "    copying causalml\\feature_selection\\__init__.py -> build\\lib.win-amd64-3.8\\causalml\\feature_selection\n",
      "    creating build\\lib.win-amd64-3.8\\causalml\\inference\n",
      "    copying causalml\\inference\\__init__.py -> build\\lib.win-amd64-3.8\\causalml\\inference\n",
      "    creating build\\lib.win-amd64-3.8\\causalml\\metrics\n",
      "    copying causalml\\metrics\\classification.py -> build\\lib.win-amd64-3.8\\causalml\\metrics\n",
      "    copying causalml\\metrics\\const.py -> build\\lib.win-amd64-3.8\\causalml\\metrics\n",
      "    copying causalml\\metrics\\regression.py -> build\\lib.win-amd64-3.8\\causalml\\metrics\n",
      "    copying causalml\\metrics\\sensitivity.py -> build\\lib.win-amd64-3.8\\causalml\\metrics\n",
      "    copying causalml\\metrics\\visualize.py -> build\\lib.win-amd64-3.8\\causalml\\metrics\n",
      "    copying causalml\\metrics\\__init__.py -> build\\lib.win-amd64-3.8\\causalml\\metrics\n",
      "    creating build\\lib.win-amd64-3.8\\causalml\\optimize\n",
      "    copying causalml\\optimize\\policylearner.py -> build\\lib.win-amd64-3.8\\causalml\\optimize\n",
      "    copying causalml\\optimize\\unit_selection.py -> build\\lib.win-amd64-3.8\\causalml\\optimize\n",
      "    copying causalml\\optimize\\utils.py -> build\\lib.win-amd64-3.8\\causalml\\optimize\n",
      "    copying causalml\\optimize\\value_optimization.py -> build\\lib.win-amd64-3.8\\causalml\\optimize\n",
      "    copying causalml\\optimize\\__init__.py -> build\\lib.win-amd64-3.8\\causalml\\optimize\n",
      "    creating build\\lib.win-amd64-3.8\\causalml\\inference\\iv\n",
      "    copying causalml\\inference\\iv\\iv_regression.py -> build\\lib.win-amd64-3.8\\causalml\\inference\\iv\n",
      "    copying causalml\\inference\\iv\\__init__.py -> build\\lib.win-amd64-3.8\\causalml\\inference\\iv\n",
      "    creating build\\lib.win-amd64-3.8\\causalml\\inference\\meta\n",
      "    copying causalml\\inference\\meta\\explainer.py -> build\\lib.win-amd64-3.8\\causalml\\inference\\meta\n",
      "    copying causalml\\inference\\meta\\rlearner.py -> build\\lib.win-amd64-3.8\\causalml\\inference\\meta\n",
      "    copying causalml\\inference\\meta\\slearner.py -> build\\lib.win-amd64-3.8\\causalml\\inference\\meta\n",
      "    copying causalml\\inference\\meta\\tlearner.py -> build\\lib.win-amd64-3.8\\causalml\\inference\\meta\n",
      "    copying causalml\\inference\\meta\\tmle.py -> build\\lib.win-amd64-3.8\\causalml\\inference\\meta\n",
      "    copying causalml\\inference\\meta\\utils.py -> build\\lib.win-amd64-3.8\\causalml\\inference\\meta\n",
      "    copying causalml\\inference\\meta\\xlearner.py -> build\\lib.win-amd64-3.8\\causalml\\inference\\meta\n",
      "    copying causalml\\inference\\meta\\__init__.py -> build\\lib.win-amd64-3.8\\causalml\\inference\\meta\n",
      "    creating build\\lib.win-amd64-3.8\\causalml\\inference\\nn\n",
      "    copying causalml\\inference\\nn\\dragonnet.py -> build\\lib.win-amd64-3.8\\causalml\\inference\\nn\n",
      "    copying causalml\\inference\\nn\\utils.py -> build\\lib.win-amd64-3.8\\causalml\\inference\\nn\n",
      "    copying causalml\\inference\\nn\\__init__.py -> build\\lib.win-amd64-3.8\\causalml\\inference\\nn\n",
      "    creating build\\lib.win-amd64-3.8\\causalml\\inference\\tree\n",
      "    copying causalml\\inference\\tree\\models.py -> build\\lib.win-amd64-3.8\\causalml\\inference\\tree\n",
      "    copying causalml\\inference\\tree\\plot.py -> build\\lib.win-amd64-3.8\\causalml\\inference\\tree\n",
      "    copying causalml\\inference\\tree\\utils.py -> build\\lib.win-amd64-3.8\\causalml\\inference\\tree\n"
     ]
    },
    {
     "name": "stderr",
     "output_type": "stream",
     "text": [
      "    copying causalml\\inference\\tree\\__init__.py -> build\\lib.win-amd64-3.8\\causalml\\inference\\tree\n",
      "    running build_ext\n",
      "    building 'causalml.inference.tree.causaltree' extension\n",
      "    creating build\\temp.win-amd64-3.8\n",
      "    creating build\\temp.win-amd64-3.8\\Release\n",
      "    creating build\\temp.win-amd64-3.8\\Release\\causalml\n",
      "    creating build\\temp.win-amd64-3.8\\Release\\causalml\\inference\n",
      "    creating build\\temp.win-amd64-3.8\\Release\\causalml\\inference\\tree\n",
      "    C:\\Program Files (x86)\\Microsoft Visual Studio\\2019\\BuildTools\\VC\\Tools\\MSVC\\14.28.29333\\bin\\HostX86\\x64\\cl.exe /c /nologo /Ox /W3 /GL /DNDEBUG /MD -Ic:\\python\\lib\\site-packages\\numpy\\core\\include -Ic:\\python\\lib\\site-packages\\numpy\\core\\include -Ic:\\python\\include -Ic:\\python\\include \"-IC:\\Program Files (x86)\\Microsoft Visual Studio\\2019\\BuildTools\\VC\\Tools\\MSVC\\14.28.29333\\include\" /Tccausalml/inference/tree/causaltree.c /Fobuild\\temp.win-amd64-3.8\\Release\\causalml/inference/tree/causaltree.obj -O3\n",
      "    cl: Є®¬ ­¤­ п бва®Є  warning D9002: Їа®ЇгбЄ ­ҐЁ§ўҐбв­®Ј® Ї а ¬Ґва  \"-O3\"\n",
      "    causaltree.c\n",
      "    c:\\python\\include\\pyconfig.h(59): fatal error C1083: ЌҐ г¤ Ґвбп ®вЄалвм д ©« ўЄ«озҐ­ЁҐ: io.h: No such file or directory,\n",
      "    error: command 'C:\\\\Program Files (x86)\\\\Microsoft Visual Studio\\\\2019\\\\BuildTools\\\\VC\\\\Tools\\\\MSVC\\\\14.28.29333\\\\bin\\\\HostX86\\\\x64\\\\cl.exe' failed with exit status 2\n",
      "    ----------------------------------------\n",
      "ERROR: Command errored out with exit status 1: 'c:\\python\\python.exe' -u -c 'import sys, setuptools, tokenize; sys.argv[0] = '\"'\"'C:\\\\tmp\\\\pip-install-0lxus1cv\\\\causalml_88a7aac32acd410bbd37fc54a6824b76\\\\setup.py'\"'\"'; __file__='\"'\"'C:\\\\tmp\\\\pip-install-0lxus1cv\\\\causalml_88a7aac32acd410bbd37fc54a6824b76\\\\setup.py'\"'\"';f=getattr(tokenize, '\"'\"'open'\"'\"', open)(__file__);code=f.read().replace('\"'\"'\\r\\n'\"'\"', '\"'\"'\\n'\"'\"');f.close();exec(compile(code, __file__, '\"'\"'exec'\"'\"'))' install --record 'C:\\tmp\\pip-record-oqntacm9\\install-record.txt' --single-version-externally-managed --compile --install-headers 'c:\\python\\Include\\causalml' Check the logs for full command output.\n"
     ]
    },
    {
     "name": "stdout",
     "output_type": "stream",
     "text": [
      "\n",
      "Requirement already satisfied: cycler>=0.10 in c:\\python\\lib\\site-packages (from matplotlib->causalml) (0.10.0)\n",
      "Requirement already satisfied: pyparsing!=2.0.4,!=2.1.2,!=2.1.6,>=2.0.3 in c:\\python\\lib\\site-packages (from matplotlib->causalml) (2.4.7)\n",
      "Requirement already satisfied: future in c:\\python\\lib\\site-packages (from pygam->causalml) (0.18.2)\n",
      "Requirement already satisfied: progressbar2 in c:\\python\\lib\\site-packages (from pygam->causalml) (3.53.1)\n",
      "Requirement already satisfied: python-utils>=2.3.0 in c:\\python\\lib\\site-packages (from progressbar2->pygam->causalml) (2.4.0)\n",
      "Requirement already satisfied: numba in c:\\python\\lib\\site-packages (from shap->causalml) (0.52.0)\n",
      "Requirement already satisfied: slicer==0.0.3 in c:\\python\\lib\\site-packages (from shap->causalml) (0.0.3)\n",
      "Requirement already satisfied: llvmlite<0.36,>=0.35.0 in c:\\python\\lib\\site-packages (from numba->shap->causalml) (0.35.0)\n",
      "Building wheels for collected packages: causalml\n",
      "  Building wheel for causalml (setup.py): started\n",
      "  Building wheel for causalml (setup.py): finished with status 'error'\n",
      "  Running setup.py clean for causalml\n",
      "Failed to build causalml\n",
      "Installing collected packages: causalml\n",
      "    Running setup.py install for causalml: started\n",
      "    Running setup.py install for causalml: finished with status 'error'\n"
     ]
    }
   ],
   "source": [
    "pip install causalml"
   ]
  },
  {
   "cell_type": "code",
   "execution_count": null,
   "metadata": {},
   "outputs": [],
   "source": [
    "%%time\n",
    "from IPython.display import Image\n",
    "from causalml.inference.tree import UpliftTreeClassifier, UpliftRandomForestClassifier\n",
    "from causalml.inference.tree import uplift_tree_string, uplift_tree_plot\n",
    "\n",
    "uplift_model = UpliftTreeClassifier(max_depth=8, min_samples_leaf=200, min_samples_treatment=50,\n",
    "                                    n_reg=100, evaluationFunction='KL', control_name='control')\n",
    "\n",
    "uplift_model.fit(X_train_tree.values,\n",
    "                 treatment=treat_train.map({1: 'treatment', 0: 'control'}).values,\n",
    "                 y=y_train)"
   ]
  },
  {
   "cell_type": "code",
   "execution_count": null,
   "metadata": {},
   "outputs": [],
   "source": [
    "%%time\n",
    "graph = uplift_tree_plot(uplift_model.fitted_uplift_tree, features)\n",
    "Image(graph.create_png())"
   ]
  },
  {
   "cell_type": "markdown",
   "metadata": {},
   "source": [
    "### Ссылки\n",
    "\n",
    "1. https://towardsdatascience.com/a-quick-uplift-modeling-introduction-6e14de32bfe0\n",
    "2. https://habr.com/ru/company/ru_mts/blog/485980/#reference1\n",
    "3. https://en.wikipedia.org/wiki/Uplift_modelling\n",
    "4. https://www.youtube.com/watch?v=yFQAIJBYXI0\n",
    "5. https://www.youtube.com/watch?v=jCUcYiBK03I\n",
    "6. https://www.uplift-modeling.com/en/latest/\n",
    "7. https://arxiv.org/pdf/1809.04559.pdf\n",
    "8. https://catboost.ai/docs/concepts/about.html"
   ]
  },
  {
   "cell_type": "markdown",
   "metadata": {},
   "source": [
    "### Библиотеки и пакеты\n",
    "\n",
    "1. causalml\n",
    "2. sklift\n",
    "3. catboost"
   ]
  },
  {
   "cell_type": "code",
   "execution_count": null,
   "metadata": {},
   "outputs": [],
   "source": []
  }
 ],
 "metadata": {
  "kernelspec": {
   "display_name": "Python 3",
   "language": "python",
   "name": "python3"
  },
  "language_info": {
   "codemirror_mode": {
    "name": "ipython",
    "version": 3
   },
   "file_extension": ".py",
   "mimetype": "text/x-python",
   "name": "python",
   "nbconvert_exporter": "python",
   "pygments_lexer": "ipython3",
   "version": "3.8.5"
  }
 },
 "nbformat": 4,
 "nbformat_minor": 2
}
